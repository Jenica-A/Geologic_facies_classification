{
 "cells": [
  {
   "cell_type": "markdown",
   "id": "e4a7638f-8394-40d1-9a31-c0543d5ee097",
   "metadata": {},
   "source": [
    "Using XRF data from rock core to predict lithofacies\n",
    "\n",
    "Awaiting lithofacies data and beginning to build the model..I'll start another notebook and attempt unsupervised classification now."
   ]
  },
  {
   "cell_type": "code",
   "execution_count": null,
   "id": "5ebf827c-2248-47b7-893f-fff59be1e26f",
   "metadata": {},
   "outputs": [],
   "source": [
    "import pandas as pd\n",
    "from sklearn.linear_model import LogisticRegression\n",
    "from sklearn.model_selection import train_test_split\n",
    "from sklearn.metrics import accuracy_score\n",
    "\n",
    "# Load the data\n",
    "data = pd.read_csv('xrf_data_core_g.csv')\n",
    "\n",
    "# Split the data into features (X) and labels (y)\n",
    "X = data.drop('lithofacies', axis=1)\n",
    "y = data['lithofacies']\n",
    "\n",
    "# Split the data into training and testing sets\n",
    "X_train, X_test, y_train, y_test = train_test_split(X, y, test_size=0.2, random_state=42)\n",
    "\n",
    "# Create the logistic regression model\n",
    "model = LogisticRegression(multi_class='multinomial', solver='lbfgs')\n",
    "\n",
    "# Train the model on the training set\n",
    "model.fit(X_train, y_train)\n",
    "\n",
    "# Make predictions on the testing set\n",
    "y_pred = model.predict(X_test)\n",
    "\n",
    "# Evaluate the accuracy of the model\n",
    "accuracy = accuracy_score(y_test, y_pred)\n",
    "print('Accuracy:', accuracy)\n"
   ]
  },
  {
   "cell_type": "code",
   "execution_count": null,
   "id": "23836f83-c6c0-4915-878d-267656d4c433",
   "metadata": {},
   "outputs": [],
   "source": []
  }
 ],
 "metadata": {
  "kernelspec": {
   "display_name": "Python 3 (ipykernel)",
   "language": "python",
   "name": "python3"
  },
  "language_info": {
   "codemirror_mode": {
    "name": "ipython",
    "version": 3
   },
   "file_extension": ".py",
   "mimetype": "text/x-python",
   "name": "python",
   "nbconvert_exporter": "python",
   "pygments_lexer": "ipython3",
   "version": "3.9.7"
  }
 },
 "nbformat": 4,
 "nbformat_minor": 5
}
